{
 "cells": [
  {
   "cell_type": "code",
   "execution_count": 3,
   "id": "bc045a53",
   "metadata": {},
   "outputs": [],
   "source": [
    "import pandas as pd\n",
    "import matplotlib.pylab as plt\n",
    "import math"
   ]
  },
  {
   "cell_type": "code",
   "execution_count": 4,
   "id": "b640a5af",
   "metadata": {},
   "outputs": [],
   "source": [
    "plt.rcParams['figure.dpi'] = 200"
   ]
  },
  {
   "cell_type": "code",
   "execution_count": 5,
   "id": "05bc261a",
   "metadata": {},
   "outputs": [],
   "source": [
    "df = pd.read_csv(\"data/World Energy Consumption.csv\", encoding = \"ISO-8859-1\", engine='python')"
   ]
  },
  {
   "cell_type": "code",
   "execution_count": 9,
   "id": "52ea660e",
   "metadata": {},
   "outputs": [
    {
     "data": {
      "text/plain": [
       "(17432, 122)"
      ]
     },
     "execution_count": 9,
     "metadata": {},
     "output_type": "execute_result"
    }
   ],
   "source": [
    "df.shape"
   ]
  },
  {
   "cell_type": "code",
   "execution_count": 6,
   "id": "c550859a",
   "metadata": {},
   "outputs": [],
   "source": [
    "columns_names = df.columns.tolist()"
   ]
  },
  {
   "cell_type": "code",
   "execution_count": 7,
   "id": "a984d895",
   "metadata": {},
   "outputs": [
    {
     "data": {
      "text/plain": [
       "count    17432.000000\n",
       "mean      1973.094367\n",
       "std         34.333995\n",
       "min       1900.000000\n",
       "25%       1946.000000\n",
       "50%       1983.000000\n",
       "75%       2002.000000\n",
       "max       2020.000000\n",
       "Name: year, dtype: float64"
      ]
     },
     "execution_count": 7,
     "metadata": {},
     "output_type": "execute_result"
    }
   ],
   "source": [
    "df.year.describe()"
   ]
  },
  {
   "cell_type": "code",
   "execution_count": 13,
   "id": "39e93218",
   "metadata": {},
   "outputs": [],
   "source": [
    "# In function of the countries found in the last data base, we are gonna focus on those ones\n",
    "# Note: In the last data base USA wasn't inside, but here this countries it does inside\n",
    "countries_names = ['Sweden', 'Singapore', 'Hong Kong', 'Norway', 'United Kingdom', 'Canada', 'France', \n",
    "                            'Iceland', 'Ireland', 'Belgium', 'Austria', 'China', 'Germany', 'Denmark', 'Japan', \n",
    "                            'Luxembourg', 'Israel', 'Finland', 'Netherlands', 'Switzerland', 'Australia', 'United States']"
   ]
  },
  {
   "cell_type": "code",
   "execution_count": null,
   "id": "4231687f",
   "metadata": {},
   "outputs": [],
   "source": []
  },
  {
   "cell_type": "code",
   "execution_count": 14,
   "id": "9beec845",
   "metadata": {},
   "outputs": [
    {
     "data": {
      "text/plain": [
       "iso_code                   object\n",
       "country                    object\n",
       "year                        int64\n",
       "coal_prod_change_pct      float64\n",
       "coal_prod_change_twh      float64\n",
       "                           ...   \n",
       "wind_share_energy         float64\n",
       "wind_cons_change_twh      float64\n",
       "wind_consumption          float64\n",
       "wind_elec_per_capita      float64\n",
       "wind_energy_per_capita    float64\n",
       "Length: 122, dtype: object"
      ]
     },
     "execution_count": 14,
     "metadata": {},
     "output_type": "execute_result"
    }
   ],
   "source": [
    "df.dtypes"
   ]
  },
  {
   "cell_type": "code",
   "execution_count": null,
   "id": "fe9e0465",
   "metadata": {},
   "outputs": [],
   "source": []
  },
  {
   "cell_type": "code",
   "execution_count": null,
   "id": "81f0dc5d",
   "metadata": {},
   "outputs": [],
   "source": []
  },
  {
   "cell_type": "code",
   "execution_count": null,
   "id": "f53e0967",
   "metadata": {},
   "outputs": [],
   "source": []
  },
  {
   "cell_type": "code",
   "execution_count": null,
   "id": "f63c3119",
   "metadata": {},
   "outputs": [],
   "source": []
  },
  {
   "cell_type": "code",
   "execution_count": null,
   "id": "bf2c28be",
   "metadata": {},
   "outputs": [],
   "source": []
  },
  {
   "cell_type": "code",
   "execution_count": null,
   "id": "e2a9556c",
   "metadata": {},
   "outputs": [],
   "source": []
  }
 ],
 "metadata": {
  "hide_input": false,
  "kernelspec": {
   "display_name": "Python 3",
   "language": "python",
   "name": "python3"
  },
  "language_info": {
   "codemirror_mode": {
    "name": "ipython",
    "version": 3
   },
   "file_extension": ".py",
   "mimetype": "text/x-python",
   "name": "python",
   "nbconvert_exporter": "python",
   "pygments_lexer": "ipython3",
   "version": "3.9.13"
  }
 },
 "nbformat": 4,
 "nbformat_minor": 5
}
